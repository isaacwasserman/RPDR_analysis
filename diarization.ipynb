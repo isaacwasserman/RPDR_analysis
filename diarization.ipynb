{
 "cells": [
  {
   "cell_type": "code",
   "execution_count": 3,
   "metadata": {},
   "outputs": [
    {
     "name": "stderr",
     "output_type": "stream",
     "text": [
      "/Users/isaac/miniforge3/envs/pytorch/lib/python3.10/site-packages/torchvision/io/image.py:13: UserWarning: Failed to load image Python extension: 'dlopen(/Users/isaac/miniforge3/envs/pytorch/lib/python3.10/site-packages/torchvision/image.so, 0x0006): Symbol not found: __ZN3c1017RegisterOperatorsD1Ev\n",
      "  Referenced from: <9A4710B9-0DA3-36BB-9129-645F282E64B2> /Users/isaac/miniforge3/envs/pytorch/lib/python3.10/site-packages/torchvision/image.so\n",
      "  Expected in:     <03BFC270-EF54-36FC-B102-371F5164D3C9> /Users/isaac/miniforge3/envs/pytorch/lib/python3.10/site-packages/torch/lib/libtorch_cpu.dylib'If you don't plan on using image functionality from `torchvision.io`, you can ignore this warning. Otherwise, there might be something wrong with your environment. Did you have `libjpeg` or `libpng` installed before building `torchvision` from source?\n",
      "  warn(\n"
     ]
    }
   ],
   "source": [
    "import os\n",
    "import shutil\n",
    "import glob\n",
    "import json\n",
    "from ffmpeg import FFmpeg\n",
    "import tqdm.auto as tqdm\n",
    "from pyannote.audio import Pipeline as PyannotePipeline\n",
    "import dotenv\n",
    "import torch\n",
    "\n",
    "from utils import *\n",
    "\n",
    "dotenv.load_dotenv()\n",
    "\n",
    "device = torch.device(\"cuda\" if torch.cuda.is_available() else \"mps\" if torch.backends.mps.is_available() else \"cpu\")"
   ]
  },
  {
   "cell_type": "code",
   "execution_count": 5,
   "metadata": {},
   "outputs": [
    {
     "data": {
      "application/vnd.jupyter.widget-view+json": {
       "model_id": "71019784e1d84c69b9a59de49ace4123",
       "version_major": 2,
       "version_minor": 0
      },
      "text/plain": [
       "  0%|          | 0/8 [00:00<?, ?it/s]"
      ]
     },
     "metadata": {},
     "output_type": "display_data"
    }
   ],
   "source": [
    "os.makedirs(\"audio_tracks\", exist_ok=True)\n",
    "\n",
    "video_paths = glob.glob(\"../RuPaul's Drag Race/*/*\", recursive=True)\n",
    "for video_path in tqdm.tqdm(video_paths):\n",
    "    audio_path = os.path.join(\"audio_tracks\", \".\".join(os.path.basename(video_path).split(\".\")[:-1]) + \".mp3\")\n",
    "    if os.path.exists(audio_path):\n",
    "        continue\n",
    "    # audio_path = unique_path(audio_path)\n",
    "    FFmpeg().input(video_path).output(audio_path).execute()"
   ]
  },
  {
   "cell_type": "code",
   "execution_count": 6,
   "metadata": {},
   "outputs": [
    {
     "data": {
      "text/plain": [
       "<pyannote.audio.pipelines.speaker_diarization.SpeakerDiarization at 0x128c1cb20>"
      ]
     },
     "execution_count": 6,
     "metadata": {},
     "output_type": "execute_result"
    }
   ],
   "source": [
    "diarization_pipeline = PyannotePipeline.from_pretrained(\n",
    "    \"pyannote/speaker-diarization-3.1\", use_auth_token=os.getenv(\"HUGGINGFACE_TOKEN\")\n",
    ")\n",
    "diarization_pipeline.to(device)"
   ]
  },
  {
   "cell_type": "code",
   "execution_count": 14,
   "metadata": {},
   "outputs": [
    {
     "data": {
      "application/vnd.jupyter.widget-view+json": {
       "model_id": "9360d47685af4a3286dca3d1f8f8ccb0",
       "version_major": 2,
       "version_minor": 0
      },
      "text/plain": [
       "  0%|          | 0/1 [00:00<?, ?it/s]"
      ]
     },
     "metadata": {},
     "output_type": "display_data"
    },
    {
     "name": "stdout",
     "output_type": "stream",
     "text": [
      "0\n",
      "32\n",
      "64\n",
      "96\n",
      "128\n",
      "160\n",
      "192\n",
      "224\n",
      "256\n",
      "288\n",
      "320\n",
      "352\n",
      "384\n",
      "416\n",
      "448\n",
      "480\n",
      "512\n",
      "544\n",
      "576\n",
      "608\n",
      "640\n",
      "672\n",
      "704\n",
      "736\n",
      "768\n",
      "800\n",
      "832\n",
      "864\n",
      "896\n",
      "928\n",
      "960\n",
      "992\n",
      "1024\n",
      "1056\n",
      "1088\n",
      "1120\n",
      "1152\n",
      "1184\n",
      "1216\n",
      "1248\n",
      "1280\n",
      "1312\n",
      "1344\n",
      "1376\n",
      "1408\n",
      "1440\n",
      "1472\n",
      "1504\n",
      "1536\n",
      "1568\n",
      "1600\n",
      "1632\n",
      "1664\n",
      "1696\n",
      "1728\n",
      "1760\n",
      "1792\n",
      "1824\n",
      "1856\n",
      "1888\n",
      "1920\n",
      "1952\n",
      "1984\n",
      "2016\n",
      "2048\n",
      "2080\n",
      "2112\n",
      "2144\n",
      "2176\n",
      "2208\n",
      "2240\n",
      "2272\n",
      "2304\n",
      "2336\n",
      "2368\n",
      "2400\n",
      "2432\n",
      "2464\n",
      "2496\n",
      "2528\n",
      "2560\n",
      "2543\n",
      "None\n",
      "None\n",
      "0\n",
      "1\n"
     ]
    }
   ],
   "source": [
    "class YourCustomHook:\n",
    "    def __init__(self, pbar):\n",
    "        self.pbar = pbar\n",
    "\n",
    "    def __call__(\n",
    "        self,\n",
    "        step_name,\n",
    "        step_artifact,\n",
    "        file=None,\n",
    "        total=None,\n",
    "        completed=None,\n",
    "    ):\n",
    "        pbar.total = total\n",
    "        previous_progress = pbar.n\n",
    "        new_progress = completed - previous_progress if completed is not None else 0\n",
    "        pbar.update(new_progress)\n",
    "        status = f\"{step_name}, {step_artifact}, {file}, {total}, {completed}\"\n",
    "        pbar.write(step_name)\n",
    "\n",
    "\n",
    "with tqdm.tqdm(total=1) as pbar:\n",
    "    hook = YourCustomHook(pbar)\n",
    "    diarization_pipeline(\"audio_tracks/RuPaul_s Drag Race S01E01.mp3\", hook=hook)"
   ]
  },
  {
   "cell_type": "code",
   "execution_count": 19,
   "metadata": {},
   "outputs": [],
   "source": [
    "d = diarization_pipeline(\"clip.mp3\")"
   ]
  },
  {
   "cell_type": "code",
   "execution_count": 20,
   "metadata": {},
   "outputs": [
    {
     "data": {
      "image/png": "[encoded data removed]",
      "text/plain": [
       "<pyannote.core.annotation.Annotation at 0x2d192f160>"
      ]
     },
     "execution_count": 20,
     "metadata": {},
     "output_type": "execute_result"
    }
   ],
   "source": [
    "d"
   ]
  },
  {
   "cell_type": "code",
   "execution_count": null,
   "metadata": {},
   "outputs": [],
   "source": []
  }
 ],
 "metadata": {
  "kernelspec": {
   "display_name": "pytorch",
   "language": "python",
   "name": "python3"
  },
  "language_info": {
   "codemirror_mode": {
    "name": "ipython",
    "version": 3
   },
   "file_extension": ".py",
   "mimetype": "text/x-python",
   "name": "python",
   "nbconvert_exporter": "python",
   "pygments_lexer": "ipython3",
   "version": "3.10.9"
  }
 },
 "nbformat": 4,
 "nbformat_minor": 2
}
